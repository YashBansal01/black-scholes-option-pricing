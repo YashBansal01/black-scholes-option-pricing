{
 "cells": [
  {
   "cell_type": "code",
   "execution_count": 17,
   "source": [
    "import yfinance as yf\n",
    "import numpy as np\n",
    "import scipy.stats as si\n",
    "import matplotlib.pyplot as plt\n",
    "import mplfinance as mpf\n",
    "import plotly.graph_objects as go\n",
    "from datetime import datetime"
   ],
   "outputs": [],
   "metadata": {}
  },
  {
   "cell_type": "code",
   "execution_count": 18,
   "source": [
    "def fetch_options_data(ticker_symbol):\n",
    "    ticker = yf.Ticker(ticker_symbol)\n",
    "    options_dates = ticker.options\n",
    "    # We'll use the nearest expiry date for our analysis\n",
    "    options_data = ticker.option_chain(options_dates[0])\n",
    "    return options_data.calls, options_data.puts\n",
    "\n"
   ],
   "outputs": [],
   "metadata": {}
  },
  {
   "cell_type": "code",
   "execution_count": 19,
   "source": [
    "# Example usage:\n",
    "gs_calls, gs_puts = fetch_options_data('GS')\n",
    "print(gs_calls, gs_puts)"
   ],
   "outputs": [
    {
     "output_type": "stream",
     "name": "stdout",
     "text": [
      "       contractSymbol             lastTradeDate  strike  lastPrice     bid  \\\n",
      "0   GS250103C00300000 2024-12-24 16:09:26+00:00   300.0     278.85  273.45   \n",
      "1   GS250103C00482500 2024-12-23 16:24:16+00:00   482.5      85.94   90.65   \n",
      "2   GS250103C00485000 2024-12-23 16:24:16+00:00   485.0      83.44   88.80   \n",
      "3   GS250103C00487500 2024-12-20 16:44:49+00:00   487.5      84.10   86.10   \n",
      "4   GS250103C00500000 2024-12-30 20:51:37+00:00   500.0      75.56   73.40   \n",
      "5   GS250103C00505000 2024-12-31 16:31:34+00:00   505.0      68.03   67.85   \n",
      "6   GS250103C00510000 2024-11-21 17:25:30+00:00   510.0      87.00   54.20   \n",
      "7   GS250103C00525000 2024-12-16 20:47:19+00:00   525.0      64.37   47.95   \n",
      "8   GS250103C00535000 2024-12-31 17:13:39+00:00   535.0      37.97   38.50   \n",
      "9   GS250103C00540000 2024-12-31 17:14:29+00:00   540.0      33.00   33.70   \n",
      "10  GS250103C00545000 2025-01-02 15:28:01+00:00   545.0      34.35   28.15   \n",
      "11  GS250103C00550000 2025-01-02 14:54:08+00:00   550.0      31.05   23.85   \n",
      "12  GS250103C00555000 2025-01-03 15:27:48+00:00   555.0      19.37   19.35   \n",
      "13  GS250103C00560000 2025-01-03 15:35:51+00:00   560.0      17.70   16.25   \n",
      "14  GS250103C00565000 2025-01-02 20:32:25+00:00   565.0       8.35    9.45   \n",
      "15  GS250103C00570000 2025-01-03 15:43:44+00:00   570.0       6.50    7.00   \n",
      "16  GS250103C00572500 2025-01-03 15:59:23+00:00   572.5       5.00    4.95   \n",
      "17  GS250103C00575000 2025-01-03 15:58:36+00:00   575.0       2.71    2.84   \n",
      "18  GS250103C00577500 2025-01-03 16:03:36+00:00   577.5       2.00    1.62   \n",
      "19  GS250103C00580000 2025-01-03 16:03:36+00:00   580.0       0.90    0.83   \n",
      "20  GS250103C00582500 2025-01-03 16:02:40+00:00   582.5       0.22    0.18   \n",
      "21  GS250103C00585000 2025-01-03 16:02:57+00:00   585.0       0.10    0.05   \n",
      "22  GS250103C00587500 2025-01-03 15:05:26+00:00   587.5       0.03    0.01   \n",
      "23  GS250103C00590000 2025-01-03 16:03:51+00:00   590.0       0.01    0.01   \n",
      "24  GS250103C00592500 2025-01-03 15:10:52+00:00   592.5       0.03    0.00   \n",
      "25  GS250103C00595000 2025-01-03 16:03:45+00:00   595.0       0.01    0.01   \n",
      "26  GS250103C00600000 2025-01-03 15:14:38+00:00   600.0       0.01    0.00   \n",
      "27  GS250103C00605000 2025-01-02 18:29:39+00:00   605.0       0.05    0.00   \n",
      "28  GS250103C00610000 2025-01-02 18:48:45+00:00   610.0       0.12    0.00   \n",
      "29  GS250103C00615000 2025-01-03 15:49:00+00:00   615.0       0.02    0.00   \n",
      "30  GS250103C00620000 2025-01-02 18:48:45+00:00   620.0       0.02    0.00   \n",
      "31  GS250103C00625000 2025-01-03 14:49:21+00:00   625.0       0.01    0.00   \n",
      "32  GS250103C00630000 2025-01-02 14:39:00+00:00   630.0       0.75    0.00   \n",
      "33  GS250103C00635000 2024-12-23 16:49:35+00:00   635.0       0.09    0.00   \n",
      "34  GS250103C00640000 2024-12-20 20:22:35+00:00   640.0       0.10    0.00   \n",
      "35  GS250103C00645000 2024-12-23 15:22:19+00:00   645.0       0.01    0.00   \n",
      "36  GS250103C00650000 2024-12-26 17:14:48+00:00   650.0       0.05    0.00   \n",
      "37  GS250103C00655000 2024-12-30 16:34:13+00:00   655.0       0.05    0.00   \n",
      "38  GS250103C00660000 2024-12-12 19:32:23+00:00   660.0       0.39    0.00   \n",
      "39  GS250103C00680000 2024-12-13 20:22:38+00:00   680.0       0.15    0.00   \n",
      "40  GS250103C00685000 2024-12-17 16:26:12+00:00   685.0       0.05    0.00   \n",
      "\n",
      "       ask    change  percentChange  volume  openInterest  impliedVolatility  \\\n",
      "0   279.60  0.000000       0.000000     NaN             1           5.214847   \n",
      "1    95.70  0.000000       0.000000     NaN             0           2.305668   \n",
      "2    94.65  0.000000       0.000000    50.0            28           1.724611   \n",
      "3    91.60  0.000000       0.000000    50.0            50           1.386722   \n",
      "4    78.90  0.000000       0.000000     NaN             1           2.090337   \n",
      "5    74.25  0.000000       0.000000     1.0             0           2.047368   \n",
      "6    62.00  0.000000       0.000000     NaN             1           0.000010   \n",
      "7    55.00  0.000000       0.000000     1.0             0           0.917970   \n",
      "8    43.90  0.000000       0.000000     1.0             8           1.307621   \n",
      "9    39.70  0.000000       0.000000     1.0             6           0.763674   \n",
      "10   34.25  0.000000       0.000000     1.0             1           1.124272   \n",
      "11   29.50  0.000000       0.000000     1.0           108           0.580082   \n",
      "12   23.25 -4.299999     -18.166452     3.0            15           0.753665   \n",
      "13   19.35 -3.349998     -15.914483     4.0            48           0.577641   \n",
      "14   14.25 -4.400000     -34.509800     2.0            84           0.614262   \n",
      "15    8.10 -1.150000     -15.032680     7.0           265           0.359381   \n",
      "16    5.70  0.800000      19.047623    72.0            39           0.295173   \n",
      "17    3.35 -1.800000     -39.911310    80.0           238           0.224861   \n",
      "18    2.00 -0.800000     -30.303028    98.0           203           0.215340   \n",
      "19    0.95 -0.870000     -49.152542   393.0          1000           0.197274   \n",
      "20    0.32 -1.090000     -83.206110    64.0           244           0.177254   \n",
      "21    0.17 -0.470000     -82.456140   100.0           887           0.192391   \n",
      "22    0.04 -0.320000     -91.428570    23.0           158           0.179696   \n",
      "23    0.02 -0.170000     -89.473690    47.0             0           0.195321   \n",
      "24    0.04 -0.140000     -82.352940    23.0           434           0.246101   \n",
      "25    0.02 -0.140000     -87.500000    73.0           291           0.253914   \n",
      "26    0.01 -0.030000     -75.000000   181.0          2257           0.289070   \n",
      "27    0.03  0.000000       0.000000    22.0           185           0.382819   \n",
      "28    0.21  0.000000       0.000000    28.0           133           0.519536   \n",
      "29    0.03  0.000000       0.000000     1.0             0           0.496099   \n",
      "30    0.03 -0.010000     -33.333336     2.0           184           0.507817   \n",
      "31    0.03 -0.750000     -98.684210     1.0            66           0.562504   \n",
      "32    0.02  0.000000       0.000000     2.0            81           0.585942   \n",
      "33    0.02  0.000000       0.000000     1.0             0           0.632816   \n",
      "34    0.02  0.000000       0.000000     4.0            11           0.679691   \n",
      "35    0.02  0.000000       0.000000     1.0            21           0.726565   \n",
      "36    0.03  0.000000       0.000000     1.0            28           0.796877   \n",
      "37    0.20  0.000000       0.000000     5.0             5           1.035161   \n",
      "38    0.20  0.000000       0.000000     NaN             5           1.087895   \n",
      "39    0.02  0.000000       0.000000     1.0             0           1.031255   \n",
      "40    0.02  0.000000       0.000000     NaN             0           1.062505   \n",
      "\n",
      "    inTheMoney contractSize currency  \n",
      "0         True      REGULAR      USD  \n",
      "1         True      REGULAR      USD  \n",
      "2         True      REGULAR      USD  \n",
      "3         True      REGULAR      USD  \n",
      "4         True      REGULAR      USD  \n",
      "5         True      REGULAR      USD  \n",
      "6         True      REGULAR      USD  \n",
      "7         True      REGULAR      USD  \n",
      "8         True      REGULAR      USD  \n",
      "9         True      REGULAR      USD  \n",
      "10        True      REGULAR      USD  \n",
      "11        True      REGULAR      USD  \n",
      "12        True      REGULAR      USD  \n",
      "13        True      REGULAR      USD  \n",
      "14        True      REGULAR      USD  \n",
      "15        True      REGULAR      USD  \n",
      "16        True      REGULAR      USD  \n",
      "17        True      REGULAR      USD  \n",
      "18       False      REGULAR      USD  \n",
      "19       False      REGULAR      USD  \n",
      "20       False      REGULAR      USD  \n",
      "21       False      REGULAR      USD  \n",
      "22       False      REGULAR      USD  \n",
      "23       False      REGULAR      USD  \n",
      "24       False      REGULAR      USD  \n",
      "25       False      REGULAR      USD  \n",
      "26       False      REGULAR      USD  \n",
      "27       False      REGULAR      USD  \n",
      "28       False      REGULAR      USD  \n",
      "29       False      REGULAR      USD  \n",
      "30       False      REGULAR      USD  \n",
      "31       False      REGULAR      USD  \n",
      "32       False      REGULAR      USD  \n",
      "33       False      REGULAR      USD  \n",
      "34       False      REGULAR      USD  \n",
      "35       False      REGULAR      USD  \n",
      "36       False      REGULAR      USD  \n",
      "37       False      REGULAR      USD  \n",
      "38       False      REGULAR      USD  \n",
      "39       False      REGULAR      USD  \n",
      "40       False      REGULAR      USD          contractSymbol             lastTradeDate  strike  lastPrice    bid  \\\n",
      "0   GS250103P00365000 2024-12-27 20:26:01+00:00   365.0       0.01   0.00   \n",
      "1   GS250103P00465000 2024-12-19 20:57:14+00:00   465.0       0.33   0.00   \n",
      "2   GS250103P00470000 2024-12-23 15:55:34+00:00   470.0       0.10   0.00   \n",
      "3   GS250103P00475000 2024-12-19 20:57:14+00:00   475.0       0.52   0.00   \n",
      "4   GS250103P00480000 2024-12-30 20:57:00+00:00   480.0       0.01   0.00   \n",
      "5   GS250103P00482500 2024-12-23 15:55:34+00:00   482.5       0.18   0.00   \n",
      "6   GS250103P00485000 2024-12-19 14:30:05+00:00   485.0       1.10   0.00   \n",
      "7   GS250103P00490000 2024-12-30 14:51:45+00:00   490.0       0.03   0.00   \n",
      "8   GS250103P00495000 2024-12-30 15:52:47+00:00   495.0       0.09   0.00   \n",
      "9   GS250103P00497500 2024-12-23 15:51:56+00:00   497.5       0.30   0.00   \n",
      "10  GS250103P00500000 2024-12-31 14:30:16+00:00   500.0       0.03   0.00   \n",
      "11  GS250103P00505000 2025-01-02 15:04:51+00:00   505.0       0.01   0.00   \n",
      "12  GS250103P00510000 2024-12-30 18:26:08+00:00   510.0       0.06   0.00   \n",
      "13  GS250103P00515000 2024-12-30 15:33:05+00:00   515.0       0.13   0.00   \n",
      "14  GS250103P00520000 2025-01-02 15:02:52+00:00   520.0       0.03   0.00   \n",
      "15  GS250103P00525000 2025-01-02 18:06:32+00:00   525.0       0.02   0.00   \n",
      "16  GS250103P00530000 2024-12-30 20:59:40+00:00   530.0       0.12   0.00   \n",
      "17  GS250103P00535000 2025-01-02 18:06:32+00:00   535.0       0.06   0.00   \n",
      "18  GS250103P00540000 2025-01-03 14:56:19+00:00   540.0       0.01   0.00   \n",
      "19  GS250103P00545000 2025-01-03 16:01:56+00:00   545.0       0.01   0.01   \n",
      "20  GS250103P00550000 2025-01-03 16:03:06+00:00   550.0       0.01   0.01   \n",
      "21  GS250103P00555000 2025-01-03 16:01:56+00:00   555.0       0.04   0.00   \n",
      "22  GS250103P00560000 2025-01-03 15:57:48+00:00   560.0       0.02   0.02   \n",
      "23  GS250103P00565000 2025-01-03 15:50:08+00:00   565.0       0.09   0.03   \n",
      "24  GS250103P00570000 2025-01-03 16:00:50+00:00   570.0       0.24   0.11   \n",
      "25  GS250103P00572500 2025-01-03 15:52:27+00:00   572.5       0.62   0.35   \n",
      "26  GS250103P00575000 2025-01-03 16:03:01+00:00   575.0       0.98   0.60   \n",
      "27  GS250103P00577500 2025-01-03 15:17:17+00:00   577.5       4.00   1.27   \n",
      "28  GS250103P00580000 2025-01-03 15:36:03+00:00   580.0       4.98   3.10   \n",
      "29  GS250103P00582500 2025-01-03 15:54:00+00:00   582.5       6.56   4.30   \n",
      "30  GS250103P00585000 2025-01-02 20:04:47+00:00   585.0      11.51   6.50   \n",
      "31  GS250103P00587500 2024-12-30 16:05:04+00:00   587.5      18.22   9.55   \n",
      "32  GS250103P00590000 2025-01-03 15:27:11+00:00   590.0      16.45  12.30   \n",
      "33  GS250103P00595000 2025-01-02 14:50:43+00:00   595.0      15.21  15.95   \n",
      "34  GS250103P00600000 2025-01-02 19:53:54+00:00   600.0      27.50  20.85   \n",
      "35  GS250103P00605000 2024-12-19 17:37:54+00:00   605.0      47.58  26.45   \n",
      "36  GS250103P00610000 2024-12-13 19:09:05+00:00   610.0      26.10  31.00   \n",
      "37  GS250103P00620000 2024-12-26 16:53:47+00:00   620.0      39.36  41.00   \n",
      "\n",
      "      ask    change  percentChange  volume  openInterest  impliedVolatility  \\\n",
      "0    0.02  0.000000       0.000000    21.0            15           2.687503   \n",
      "1    0.02  0.000000       0.000000     NaN             4           1.328128   \n",
      "2    0.02  0.000000       0.000000     6.0             8           1.265629   \n",
      "3    0.02  0.000000       0.000000     NaN             2           1.203129   \n",
      "4    0.02  0.000000       0.000000    10.0            20           1.140629   \n",
      "5    0.02  0.000000       0.000000     NaN             3           1.109379   \n",
      "6    0.02  0.000000       0.000000     NaN             2           1.078130   \n",
      "7    0.02  0.000000       0.000000    20.0            24           1.031255   \n",
      "8    0.02  0.000000       0.000000     4.0             9           0.968750   \n",
      "9    0.02  0.000000       0.000000     NaN             2           0.937501   \n",
      "10   0.02  0.000000       0.000000     1.0            61           0.906251   \n",
      "11   0.01  0.000000       0.000000     1.0            31           0.796877   \n",
      "12   0.02  0.000000       0.000000     6.0           147           0.789065   \n",
      "13   0.02  0.000000       0.000000   100.0           135           0.734378   \n",
      "14   0.02  0.000000       0.000000     1.0           322           0.671878   \n",
      "15   0.02  0.000000       0.000000    10.0           126           0.617191   \n",
      "16   0.21  0.000000       0.000000    65.0           193           0.728518   \n",
      "17   0.01  0.000000       0.000000    10.0            97           0.500005   \n",
      "18   0.03 -0.080000     -88.888890     2.0          1077           0.496099   \n",
      "19   0.03 -0.040000     -80.000010    13.0           598           0.433599   \n",
      "20   0.03 -0.100000     -90.909090    37.0           778           0.371100   \n",
      "21   0.05 -0.130000     -76.470600    32.0           500           0.328132   \n",
      "22   0.12 -0.310000     -93.939390    42.0           482           0.298835   \n",
      "23   0.30 -0.560000     -86.153840   189.0           413           0.269539   \n",
      "24   0.22 -1.340000     -84.810130    95.0           538           0.159676   \n",
      "25   0.57 -1.420000     -69.607840    59.0            64           0.155770   \n",
      "26   0.98 -2.100000     -68.181816    62.0           224           0.125497   \n",
      "27   2.06 -3.240000     -44.751377    14.0            41           0.109140   \n",
      "28   3.90 -2.280000     -31.404960    51.0           272           0.091806   \n",
      "29   5.35 -5.050000     -43.496983    19.0            55           0.000010   \n",
      "30   7.65  0.000000       0.000000    13.0            29           0.000010   \n",
      "31  14.55  0.000000       0.000000    11.0            14           0.626347   \n",
      "32  15.50 -1.949999     -10.597819     5.0            10           0.522710   \n",
      "33  21.60  0.000000       0.000000     1.0             9           0.764895   \n",
      "34  26.60  0.000000       0.000000     5.0            10           0.877687   \n",
      "35  32.15  0.000000       0.000000     7.0             0           0.607426   \n",
      "36  36.60  0.000000       0.000000     2.0             0           1.088139   \n",
      "37  46.60  0.000000       0.000000     5.0             0           1.283939   \n",
      "\n",
      "    inTheMoney contractSize currency  \n",
      "0        False      REGULAR      USD  \n",
      "1        False      REGULAR      USD  \n",
      "2        False      REGULAR      USD  \n",
      "3        False      REGULAR      USD  \n",
      "4        False      REGULAR      USD  \n",
      "5        False      REGULAR      USD  \n",
      "6        False      REGULAR      USD  \n",
      "7        False      REGULAR      USD  \n",
      "8        False      REGULAR      USD  \n",
      "9        False      REGULAR      USD  \n",
      "10       False      REGULAR      USD  \n",
      "11       False      REGULAR      USD  \n",
      "12       False      REGULAR      USD  \n",
      "13       False      REGULAR      USD  \n",
      "14       False      REGULAR      USD  \n",
      "15       False      REGULAR      USD  \n",
      "16       False      REGULAR      USD  \n",
      "17       False      REGULAR      USD  \n",
      "18       False      REGULAR      USD  \n",
      "19       False      REGULAR      USD  \n",
      "20       False      REGULAR      USD  \n",
      "21       False      REGULAR      USD  \n",
      "22       False      REGULAR      USD  \n",
      "23       False      REGULAR      USD  \n",
      "24       False      REGULAR      USD  \n",
      "25       False      REGULAR      USD  \n",
      "26       False      REGULAR      USD  \n",
      "27        True      REGULAR      USD  \n",
      "28        True      REGULAR      USD  \n",
      "29        True      REGULAR      USD  \n",
      "30        True      REGULAR      USD  \n",
      "31        True      REGULAR      USD  \n",
      "32        True      REGULAR      USD  \n",
      "33        True      REGULAR      USD  \n",
      "34        True      REGULAR      USD  \n",
      "35        True      REGULAR      USD  \n",
      "36        True      REGULAR      USD  \n",
      "37        True      REGULAR      USD  \n"
     ]
    }
   ],
   "metadata": {}
  },
  {
   "cell_type": "code",
   "execution_count": 20,
   "source": [
    "gs_stock_data = yf.download('GS', start='2020-01-01', end=datetime.now().strftime('%Y-%m-%d'))\n"
   ],
   "outputs": [
    {
     "output_type": "stream",
     "name": "stderr",
     "text": [
      "[*********************100%***********************]  1 of 1 completed\n"
     ]
    }
   ],
   "metadata": {}
  },
  {
   "cell_type": "code",
   "execution_count": 21,
   "source": [
    "gs_stock_data.head"
   ],
   "outputs": [
    {
     "output_type": "execute_result",
     "data": {
      "text/plain": [
       "<bound method NDFrame.head of Price            Close        High         Low        Open   Volume\n",
       "Ticker              GS          GS          GS          GS       GS\n",
       "Date                                                               \n",
       "2020-01-02  207.329208  207.612341  203.648386  204.391625  3736300\n",
       "2020-01-03  204.904816  205.816171  203.772257  204.922516  2274500\n",
       "2020-01-06  207.001785  207.063729  203.055531  203.444837  3329300\n",
       "2020-01-07  208.364426  210.381796  207.718503  207.930863  5255200\n",
       "2020-01-08  210.372940  212.133721  208.355569  208.532529  3564700\n",
       "...                ...         ...         ...         ...      ...\n",
       "2024-12-26  581.229980  582.590027  577.500000  578.150024  1092000\n",
       "2024-12-27  576.179993  581.960022  571.349976  577.000000  1486000\n",
       "2024-12-30  573.549988  576.020020  565.099976  567.270020  1265900\n",
       "2024-12-31  572.619995  576.919983  570.400024  575.070007  1055800\n",
       "2025-01-02  574.969971  584.309998  569.739990  579.309998  2219000\n",
       "\n",
       "[1259 rows x 5 columns]>"
      ]
     },
     "metadata": {},
     "execution_count": 21
    }
   ],
   "metadata": {}
  },
  {
   "cell_type": "code",
   "execution_count": 22,
   "source": [
    "plt.figure(figsize=(10, 5))\n",
    "plt.plot(gs_stock_data['Close'])\n",
    "plt.title('GS Historical Stock Price')\n",
    "plt.xlabel('Date')\n",
    "plt.ylabel('Stock Price (USD)')\n",
    "plt.grid(True)"
   ],
   "outputs": [
    {
     "output_type": "display_data",
     "data": {
      "image/png": "[encoded data removed]",
      "text/plain": [
       "<Figure size 720x360 with 1 Axes>"
      ]
     },
     "metadata": {
      "needs_background": "light"
     }
    }
   ],
   "metadata": {}
  },
  {
   "cell_type": "code",
   "execution_count": 23,
   "source": [
    "class BlackScholesModel:\n",
    "    def __init__(self, S, K, T, r, sigma):\n",
    "        self.S = S        # Underlying asset price\n",
    "        self.K = K        # Option strike price\n",
    "        self.T = T        # Time to expiration in years\n",
    "        self.r = r        # Risk-free interest rate\n",
    "        self.sigma = sigma  # Volatility of the underlying asset\n",
    "\n",
    "    def d1(self):\n",
    "        return (np.log(self.S / self.K) + (self.r + 0.5 * self.sigma ** 2) * self.T) / (self.sigma * np.sqrt(self.T))\n",
    "    \n",
    "    def d2(self):\n",
    "        return self.d1() - self.sigma * np.sqrt(self.T)\n",
    "    \n",
    "    def call_option_price(self):\n",
    "        return (self.S * si.norm.cdf(self.d1(), 0.0, 1.0) - self.K * np.exp(-self.r * self.T) * si.norm.cdf(self.d2(), 0.0, 1.0))\n",
    "    \n",
    "    def put_option_price(self):\n",
    "        return (self.K * np.exp(-self.r * self.T) * si.norm.cdf(-self.d2(), 0.0, 1.0) - self.S * si.norm.cdf(-self.d1(), 0.0, 1.0))\n"
   ],
   "outputs": [],
   "metadata": {}
  },
  {
   "cell_type": "code",
   "execution_count": 24,
   "source": [
    "bsm = BlackScholesModel(S=100, K=100, T=1, r=0.05, sigma=0.2)\n",
    "print(f\"Call Option Price: {bsm.call_option_price()}\")\n",
    "print(f\"Put Option Price: {bsm.put_option_price()}\")\n",
    "\n",
    "def calculate_historical_volatility(stock_data, window=252):\n",
    "    log_returns = np.log(stock_data['Close'] / stock_data['Close'].shift(1))\n",
    "    volatility = np.sqrt(window) * log_returns.std()\n",
    "    return volatility\n",
    "\n",
    "gs_volatility = calculate_historical_volatility(gs_stock_data)\n",
    "print(f\"GS Historical Volatility: {gs_volatility}\")"
   ],
   "outputs": [
    {
     "output_type": "stream",
     "name": "stdout",
     "text": [
      "Call Option Price: 10.450583572185565\n",
      "Put Option Price: 5.573526022256971\n",
      "GS Historical Volatility: Ticker\n",
      "GS    0.330371\n",
      "dtype: float64\n"
     ]
    }
   ],
   "metadata": {}
  },
  {
   "cell_type": "code",
   "execution_count": 25,
   "source": [
    "class BlackScholesGreeks(BlackScholesModel):\n",
    "    def delta_call(self):\n",
    "        return si.norm.cdf(self.d1(), 0.0, 1.0)\n",
    "\n",
    "    def delta_put(self):\n",
    "        return -si.norm.cdf(-self.d1(), 0.0, 1.0)\n",
    "    \n",
    "    def gamma(self):\n",
    "        return si.norm.pdf(self.d1(), 0.0, 1.0) / (self.S * self.sigma * np.sqrt(self.T))\n",
    "\n",
    "    def theta_call(self):\n",
    "        return (-self.S * si.norm.pdf(self.d1(), 0.0, 1.0) * self.sigma / (2 * np.sqrt(self.T)) - self.r * self.K * np.exp(-self.r * self.T) * si.norm.cdf(self.d2(), 0.0, 1.0))\n",
    "    \n",
    "    def theta_put(self):\n",
    "        return (-self.S * si.norm.pdf(self.d1(), 0.0, 1.0) * self.sigma / (2 * np.sqrt(self.T)) + self.r * self.K * np.exp(-self.r * self.T) * si.norm.cdf(-self.d2(), 0.0, 1.0))\n",
    "\n",
    "    def vega(self):\n",
    "        return self.S * si.norm.pdf(self.d1(), 0.0, 1.0) * np.sqrt(self.T)\n",
    "    \n",
    "    def rho_call(self):\n",
    "        return self.K * self.T * np.exp(-self.r * self.T) * si.norm.cdf(self.d2(), 0.0, 1.0)\n",
    "    \n",
    "    def rho_put(self):\n",
    "        return -self.K * self.T * np.exp(-self.r * self.T) * si.norm.cdf(-self.d2(), 0.0, 1.0)\n"
   ],
   "outputs": [],
   "metadata": {}
  },
  {
   "cell_type": "code",
   "execution_count": 26,
   "source": [
    "bsg = BlackScholesGreeks(S=100, K=100, T=1, r=0.05, sigma=0.2)\n",
    "print(f\"Call Delta: {bsg.delta_call()}\")\n",
    "print(f\"Put Delta: {bsg.delta_put()}\")"
   ],
   "outputs": [
    {
     "output_type": "stream",
     "name": "stdout",
     "text": [
      "Call Delta: 0.6368306511756191\n",
      "Put Delta: -0.3631693488243809\n"
     ]
    }
   ],
   "metadata": {}
  },
  {
   "cell_type": "code",
   "execution_count": 27,
   "source": [
    "stock_prices = np.linspace(80, 120, 100)\n",
    "deltas = [BlackScholesGreeks(S=price, K=100, T=1, r=0.05, sigma=0.2).delta_call() for price in stock_prices]"
   ],
   "outputs": [],
   "metadata": {}
  },
  {
   "cell_type": "code",
   "execution_count": 28,
   "source": [
    "plt.figure(figsize=(10, 5))\n",
    "plt.plot(stock_prices, deltas)\n",
    "plt.title('Delta of a Call Option as Underlying Price Changes')\n",
    "plt.xlabel('Stock Price')\n",
    "plt.ylabel('Delta')\n",
    "plt.grid(True)"
   ],
   "outputs": [
    {
     "output_type": "display_data",
     "data": {
      "image/png": "[encoded data removed]",
      "text/plain": [
       "<Figure size 720x360 with 1 Axes>"
      ]
     },
     "metadata": {
      "needs_background": "light"
     }
    }
   ],
   "metadata": {}
  },
  {
   "cell_type": "code",
   "execution_count": 29,
   "source": [
    "def plot_option_sensitivity(bs_model, parameter, values, option_type='call'):\n",
    "    prices = []\n",
    "    for value in values:\n",
    "        setattr(bs_model, parameter, value)\n",
    "        if option_type == 'call':\n",
    "            prices.append(bs_model.call_option_price())\n",
    "        else:\n",
    "            prices.append(bs_model.put_option_price())\n",
    "\n",
    "    plt.figure(figsize=(10, 5))\n",
    "    plt.plot(values, prices)\n",
    "    plt.title(f'Option Price Sensitivity to {parameter.capitalize()}')\n",
    "    plt.xlabel(parameter.capitalize())\n",
    "    plt.ylabel('Option Price')\n",
    "    plt.grid(True)"
   ],
   "outputs": [],
   "metadata": {}
  },
  {
   "cell_type": "code",
   "execution_count": 30,
   "source": [
    "volatilities = np.linspace(0.1, 0.3, 100)\n",
    "plot_option_sensitivity(bsm, 'sigma', volatilities, 'call')"
   ],
   "outputs": [
    {
     "output_type": "display_data",
     "data": {
      "image/png": "[encoded data removed]",
      "text/plain": [
       "<Figure size 720x360 with 1 Axes>"
      ]
     },
     "metadata": {
      "needs_background": "light"
     }
    }
   ],
   "metadata": {}
  },
  {
   "cell_type": "code",
   "execution_count": null,
   "source": [],
   "outputs": [],
   "metadata": {}
  }
 ],
 "metadata": {
  "orig_nbformat": 4,
  "language_info": {
   "name": "python",
   "version": "3.9.13",
   "mimetype": "text/x-python",
   "codemirror_mode": {
    "name": "ipython",
    "version": 3
   },
   "pygments_lexer": "ipython3",
   "nbconvert_exporter": "python",
   "file_extension": ".py"
  },
  "kernelspec": {
   "name": "python3",
   "display_name": "Python 3.9.13 64-bit"
  },
  "interpreter": {
   "hash": "b0fa6594d8f4cbf19f97940f81e996739fb7646882a419484c72d19e05852a7e"
  }
 },
 "nbformat": 4,
 "nbformat_minor": 2
}
