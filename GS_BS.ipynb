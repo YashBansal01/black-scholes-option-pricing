{
 "cells": [
  {
   "cell_type": "code",
   "execution_count": 1,
   "source": [
    "import yfinance as yf\n",
    "import numpy as np\n",
    "import scipy.stats as si\n",
    "import matplotlib.pyplot as plt\n",
    "import mplfinance as mpf\n",
    "import plotly.graph_objects as go\n",
    "from datetime import datetime"
   ],
   "outputs": [],
   "metadata": {}
  },
  {
   "cell_type": "code",
   "execution_count": 2,
   "source": [
    "def fetch_options_data(ticker_symbol):\n",
    "    ticker = yf.Ticker(ticker_symbol)\n",
    "    options_dates = ticker.options\n",
    "    # We'll use the nearest expiry date for our analysis\n",
    "    options_data = ticker.option_chain(options_dates[0])\n",
    "    return options_data.calls, options_data.puts\n",
    "\n"
   ],
   "outputs": [],
   "metadata": {}
  },
  {
   "cell_type": "code",
   "execution_count": 3,
   "source": [
    "# Example usage:\n",
    "gs_calls, gs_puts = fetch_options_data('GS')\n",
    "print(gs_calls, gs_puts)"
   ],
   "outputs": [
    {
     "output_type": "stream",
     "name": "stdout",
     "text": [
      "       contractSymbol             lastTradeDate  strike  lastPrice     bid  \\\n",
      "0   GS250103C00300000 2024-12-24 16:09:26+00:00   300.0     278.85  273.90   \n",
      "1   GS250103C00482500 2024-12-23 16:24:16+00:00   482.5      85.94   91.00   \n",
      "2   GS250103C00485000 2024-12-23 16:24:16+00:00   485.0      83.44   88.80   \n",
      "3   GS250103C00487500 2024-12-20 16:44:49+00:00   487.5      84.10   86.10   \n",
      "4   GS250103C00500000 2024-12-30 20:51:37+00:00   500.0      75.56   73.80   \n",
      "5   GS250103C00505000 2024-12-31 16:31:34+00:00   505.0      68.03   68.75   \n",
      "6   GS250103C00510000 2024-11-21 17:25:30+00:00   510.0      87.00   54.20   \n",
      "7   GS250103C00525000 2024-12-16 20:47:19+00:00   525.0      64.37   48.95   \n",
      "8   GS250103C00535000 2024-12-31 17:13:39+00:00   535.0      37.97   38.85   \n",
      "9   GS250103C00540000 2024-12-31 17:14:29+00:00   540.0      33.00   33.90   \n",
      "10  GS250103C00545000 2025-01-02 15:28:01+00:00   545.0      34.35   28.60   \n",
      "11  GS250103C00550000 2025-01-02 14:54:08+00:00   550.0      31.05   23.85   \n",
      "12  GS250103C00555000 2025-01-03 15:27:48+00:00   555.0      19.37   19.45   \n",
      "13  GS250103C00560000 2025-01-03 15:35:51+00:00   560.0      17.70   13.70   \n",
      "14  GS250103C00565000 2025-01-02 20:32:25+00:00   565.0       8.35    9.85   \n",
      "15  GS250103C00570000 2025-01-03 16:11:53+00:00   570.0       5.96    5.45   \n",
      "16  GS250103C00572500 2025-01-03 15:59:23+00:00   572.5       5.00    3.45   \n",
      "17  GS250103C00575000 2025-01-03 16:14:40+00:00   575.0       2.50    1.97   \n",
      "18  GS250103C00577500 2025-01-03 16:16:23+00:00   577.5       1.14    1.00   \n",
      "19  GS250103C00580000 2025-01-03 16:16:04+00:00   580.0       0.54    0.38   \n",
      "20  GS250103C00582500 2025-01-03 16:07:12+00:00   582.5       0.18    0.11   \n",
      "21  GS250103C00585000 2025-01-03 16:04:07+00:00   585.0       0.12    0.05   \n",
      "22  GS250103C00587500 2025-01-03 16:08:15+00:00   587.5       0.03    0.01   \n",
      "23  GS250103C00590000 2025-01-03 16:03:51+00:00   590.0       0.01    0.01   \n",
      "24  GS250103C00592500 2025-01-03 15:10:52+00:00   592.5       0.03    0.00   \n",
      "25  GS250103C00595000 2025-01-03 16:04:07+00:00   595.0       0.01    0.01   \n",
      "26  GS250103C00600000 2025-01-03 15:14:38+00:00   600.0       0.01    0.00   \n",
      "27  GS250103C00605000 2025-01-02 18:29:39+00:00   605.0       0.05    0.00   \n",
      "28  GS250103C00610000 2025-01-02 18:48:45+00:00   610.0       0.12    0.00   \n",
      "29  GS250103C00615000 2025-01-03 15:49:00+00:00   615.0       0.02    0.00   \n",
      "30  GS250103C00620000 2025-01-02 18:48:45+00:00   620.0       0.02    0.00   \n",
      "31  GS250103C00625000 2025-01-03 14:49:21+00:00   625.0       0.01    0.00   \n",
      "32  GS250103C00630000 2025-01-02 14:39:00+00:00   630.0       0.75    0.00   \n",
      "33  GS250103C00635000 2024-12-23 16:49:35+00:00   635.0       0.09    0.00   \n",
      "34  GS250103C00640000 2024-12-20 20:22:35+00:00   640.0       0.10    0.00   \n",
      "35  GS250103C00645000 2024-12-23 15:22:19+00:00   645.0       0.01    0.00   \n",
      "36  GS250103C00650000 2024-12-26 17:14:48+00:00   650.0       0.05    0.00   \n",
      "37  GS250103C00655000 2024-12-30 16:34:13+00:00   655.0       0.05    0.00   \n",
      "38  GS250103C00660000 2024-12-12 19:32:23+00:00   660.0       0.39    0.00   \n",
      "39  GS250103C00680000 2024-12-13 20:22:38+00:00   680.0       0.15    0.00   \n",
      "40  GS250103C00685000 2024-12-17 16:26:12+00:00   685.0       0.05    0.00   \n",
      "\n",
      "       ask    change  percentChange  volume  openInterest  impliedVolatility  \\\n",
      "0   279.60  0.000000       0.000000     NaN             1           6.746095   \n",
      "1    96.40  0.000000       0.000000     NaN             0           2.082524   \n",
      "2    94.65  0.000000       0.000000    50.0            28           2.188481   \n",
      "3    91.50  0.000000       0.000000    50.0            50           2.014165   \n",
      "4    79.75  0.000000       0.000000     NaN             1           1.887208   \n",
      "5    74.25  0.000000       0.000000     1.0             0           1.715822   \n",
      "6    62.00  0.000000       0.000000     NaN             1           0.000010   \n",
      "7    54.85  0.000000       0.000000     1.0             0           1.386234   \n",
      "8    43.80  0.000000       0.000000     1.0             8           1.064458   \n",
      "9    39.70  0.000000       0.000000     1.0             6           1.044438   \n",
      "10   34.20  0.000000       0.000000     1.0             1           0.869630   \n",
      "11   29.50  0.000000       0.000000     1.0           108           0.803957   \n",
      "12   24.25 -4.299999     -18.166452     3.0            15           0.713870   \n",
      "13   19.05 -3.349998     -15.914483     4.0            48           0.534428   \n",
      "14   14.20 -4.400000     -34.509800     2.0            84           0.700687   \n",
      "15    6.35 -1.690000     -22.091503     8.0           265           0.280525   \n",
      "16    4.15  0.800000      19.047623    72.0            39           0.233162   \n",
      "17    2.43 -2.010000     -44.567630    92.0           238           0.206917   \n",
      "18    1.27 -1.660000     -59.285717   100.0           203           0.195076   \n",
      "19    0.44 -1.230000     -69.491520   395.0          1000           0.170907   \n",
      "20    0.16 -1.130000     -86.259540    76.0           244           0.170418   \n",
      "21    0.07 -0.450000     -78.947370   110.0           887           0.180672   \n",
      "22    0.04 -0.320000     -91.428570    24.0           158           0.198250   \n",
      "23    0.02 -0.170000     -94.444440    47.0             0           0.210945   \n",
      "24    0.03 -0.140000     -82.352940    23.0           434           0.253914   \n",
      "25    0.02 -0.140000     -93.333330    84.0           291           0.269539   \n",
      "26    0.01 -0.030000     -75.000000   181.0          2257           0.304694   \n",
      "27    0.02  0.000000       0.000000    22.0           185           0.382819   \n",
      "28    0.02  0.000000       0.000000    28.0           133           0.437506   \n",
      "29    0.02  0.000000       0.000000     1.0             0           0.488286   \n",
      "30    0.02 -0.010000     -33.333336     2.0           184           0.507817   \n",
      "31    0.02 -0.750000     -98.684210     1.0            66           0.554692   \n",
      "32    0.02  0.000000       0.000000     2.0            81           0.601566   \n",
      "33    0.02  0.000000       0.000000     1.0             0           0.648441   \n",
      "34    0.02  0.000000       0.000000     4.0            11           0.695316   \n",
      "35    0.02  0.000000       0.000000     1.0            21           0.734378   \n",
      "36    0.02  0.000000       0.000000     1.0            28           0.781252   \n",
      "37    0.02  0.000000       0.000000     5.0             5           0.828127   \n",
      "38    0.02  0.000000       0.000000     NaN             5           0.875001   \n",
      "39    0.02  0.000000       0.000000     1.0             0           1.046880   \n",
      "40    0.02  0.000000       0.000000     NaN             0           1.078130   \n",
      "\n",
      "    inTheMoney contractSize currency  \n",
      "0         True      REGULAR      USD  \n",
      "1         True      REGULAR      USD  \n",
      "2         True      REGULAR      USD  \n",
      "3         True      REGULAR      USD  \n",
      "4         True      REGULAR      USD  \n",
      "5         True      REGULAR      USD  \n",
      "6         True      REGULAR      USD  \n",
      "7         True      REGULAR      USD  \n",
      "8         True      REGULAR      USD  \n",
      "9         True      REGULAR      USD  \n",
      "10        True      REGULAR      USD  \n",
      "11        True      REGULAR      USD  \n",
      "12        True      REGULAR      USD  \n",
      "13        True      REGULAR      USD  \n",
      "14        True      REGULAR      USD  \n",
      "15        True      REGULAR      USD  \n",
      "16        True      REGULAR      USD  \n",
      "17       False      REGULAR      USD  \n",
      "18       False      REGULAR      USD  \n",
      "19       False      REGULAR      USD  \n",
      "20       False      REGULAR      USD  \n",
      "21       False      REGULAR      USD  \n",
      "22       False      REGULAR      USD  \n",
      "23       False      REGULAR      USD  \n",
      "24       False      REGULAR      USD  \n",
      "25       False      REGULAR      USD  \n",
      "26       False      REGULAR      USD  \n",
      "27       False      REGULAR      USD  \n",
      "28       False      REGULAR      USD  \n",
      "29       False      REGULAR      USD  \n",
      "30       False      REGULAR      USD  \n",
      "31       False      REGULAR      USD  \n",
      "32       False      REGULAR      USD  \n",
      "33       False      REGULAR      USD  \n",
      "34       False      REGULAR      USD  \n",
      "35       False      REGULAR      USD  \n",
      "36       False      REGULAR      USD  \n",
      "37       False      REGULAR      USD  \n",
      "38       False      REGULAR      USD  \n",
      "39       False      REGULAR      USD  \n",
      "40       False      REGULAR      USD          contractSymbol             lastTradeDate  strike  lastPrice    bid  \\\n",
      "0   GS250103P00365000 2024-12-27 20:26:01+00:00   365.0       0.01   0.00   \n",
      "1   GS250103P00465000 2024-12-19 20:57:14+00:00   465.0       0.33   0.00   \n",
      "2   GS250103P00470000 2024-12-23 15:55:34+00:00   470.0       0.10   0.00   \n",
      "3   GS250103P00475000 2024-12-19 20:57:14+00:00   475.0       0.52   0.00   \n",
      "4   GS250103P00480000 2024-12-30 20:57:00+00:00   480.0       0.01   0.00   \n",
      "5   GS250103P00482500 2024-12-23 15:55:34+00:00   482.5       0.18   0.00   \n",
      "6   GS250103P00485000 2024-12-19 14:30:05+00:00   485.0       1.10   0.00   \n",
      "7   GS250103P00490000 2024-12-30 14:51:45+00:00   490.0       0.03   0.00   \n",
      "8   GS250103P00495000 2024-12-30 15:52:47+00:00   495.0       0.09   0.00   \n",
      "9   GS250103P00497500 2024-12-23 15:51:56+00:00   497.5       0.30   0.00   \n",
      "10  GS250103P00500000 2024-12-31 14:30:16+00:00   500.0       0.03   0.00   \n",
      "11  GS250103P00505000 2025-01-02 15:04:51+00:00   505.0       0.01   0.00   \n",
      "12  GS250103P00510000 2024-12-30 18:26:08+00:00   510.0       0.06   0.00   \n",
      "13  GS250103P00515000 2024-12-30 15:33:05+00:00   515.0       0.13   0.00   \n",
      "14  GS250103P00520000 2025-01-02 15:02:52+00:00   520.0       0.03   0.00   \n",
      "15  GS250103P00525000 2025-01-02 18:06:32+00:00   525.0       0.02   0.00   \n",
      "16  GS250103P00530000 2024-12-30 20:59:40+00:00   530.0       0.12   0.00   \n",
      "17  GS250103P00535000 2025-01-02 18:06:32+00:00   535.0       0.06   0.00   \n",
      "18  GS250103P00540000 2025-01-03 14:56:19+00:00   540.0       0.01   0.00   \n",
      "19  GS250103P00545000 2025-01-03 16:01:56+00:00   545.0       0.01   0.00   \n",
      "20  GS250103P00550000 2025-01-03 16:08:53+00:00   550.0       0.03   0.01   \n",
      "21  GS250103P00555000 2025-01-03 16:06:57+00:00   555.0       0.07   0.00   \n",
      "22  GS250103P00560000 2025-01-03 16:17:41+00:00   560.0       0.03   0.02   \n",
      "23  GS250103P00565000 2025-01-03 15:50:08+00:00   565.0       0.09   0.06   \n",
      "24  GS250103P00570000 2025-01-03 16:18:53+00:00   570.0       0.29   0.27   \n",
      "25  GS250103P00572500 2025-01-03 15:52:27+00:00   572.5       0.38   0.63   \n",
      "26  GS250103P00575000 2025-01-03 16:19:33+00:00   575.0       1.60   1.35   \n",
      "27  GS250103P00577500 2025-01-03 16:15:46+00:00   577.5       2.50   2.62   \n",
      "28  GS250103P00580000 2025-01-03 15:36:03+00:00   580.0       4.98   4.25   \n",
      "29  GS250103P00582500 2025-01-03 15:54:00+00:00   582.5       6.56   6.35   \n",
      "30  GS250103P00585000 2025-01-02 20:04:47+00:00   585.0      11.51   6.55   \n",
      "31  GS250103P00587500 2024-12-30 16:05:04+00:00   587.5      18.22  10.35   \n",
      "32  GS250103P00590000 2025-01-03 15:27:11+00:00   590.0      16.45  11.35   \n",
      "33  GS250103P00595000 2025-01-02 14:50:43+00:00   595.0      15.21  16.10   \n",
      "34  GS250103P00600000 2025-01-02 19:53:54+00:00   600.0      27.50  20.85   \n",
      "35  GS250103P00605000 2024-12-19 17:37:54+00:00   605.0      47.58  24.95   \n",
      "36  GS250103P00610000 2024-12-13 19:09:05+00:00   610.0      26.10  31.00   \n",
      "37  GS250103P00620000 2024-12-26 16:53:47+00:00   620.0      39.36  41.00   \n",
      "\n",
      "      ask    change  percentChange  volume  openInterest  impliedVolatility  \\\n",
      "0    0.02  0.000000       0.000000    21.0            15           2.687503   \n",
      "1    0.02  0.000000       0.000000     NaN             4           1.312503   \n",
      "2    0.02  0.000000       0.000000     6.0             8           1.250004   \n",
      "3    0.02  0.000000       0.000000     NaN             2           1.187504   \n",
      "4    0.02  0.000000       0.000000    10.0            20           1.125004   \n",
      "5    0.02  0.000000       0.000000     NaN             3           1.093755   \n",
      "6    0.02  0.000000       0.000000     NaN             2           1.062505   \n",
      "7    0.02  0.000000       0.000000    20.0            24           1.015630   \n",
      "8    0.02  0.000000       0.000000     4.0             9           0.953125   \n",
      "9    0.02  0.000000       0.000000     NaN             2           0.921876   \n",
      "10   0.02  0.000000       0.000000     1.0            61           0.890626   \n",
      "11   0.01  0.000000       0.000000     1.0            31           0.781252   \n",
      "12   0.02  0.000000       0.000000     6.0           147           0.781252   \n",
      "13   0.02  0.000000       0.000000   100.0           135           0.718753   \n",
      "14   0.02  0.000000       0.000000     1.0           322           0.656253   \n",
      "15   0.02  0.000000       0.000000    10.0           126           0.601566   \n",
      "16   0.02  0.000000       0.000000    65.0           193           0.546880   \n",
      "17   0.01  0.000000       0.000000    10.0            97           0.484380   \n",
      "18   0.02 -0.080000     -88.888890     2.0          1077           0.460943   \n",
      "19   0.03 -0.040000     -80.000010    13.0           598           0.417975   \n",
      "20   0.03 -0.080000     -72.727270    38.0           778           0.355475   \n",
      "21   0.04 -0.100000     -58.823530    38.0           500           0.300788   \n",
      "22   0.05 -0.300000     -93.750000    43.0           482           0.242195   \n",
      "23   0.11 -0.560000     -86.153840   189.0           413           0.196297   \n",
      "24   0.36 -1.290000     -81.645580   115.0           538           0.156503   \n",
      "25   0.84 -1.660000     -81.372550    65.0            64           0.149178   \n",
      "26   1.68 -1.480000     -51.929820    65.0           224           0.135263   \n",
      "27   3.15 -4.740000     -65.469610    18.0            41           0.124398   \n",
      "28   5.05 -2.280000     -31.404960    51.0           272           0.000010   \n",
      "29   7.15 -5.050000     -43.496983    19.0            55           0.000010   \n",
      "30  11.80  0.000000       0.000000    13.0            29           0.435553   \n",
      "31  13.60  0.000000       0.000000    11.0            14           0.406256   \n",
      "32  15.45 -1.949999     -10.597819     5.0            10           0.341315   \n",
      "33  21.60  0.000000       0.000000     1.0             9           0.631351   \n",
      "34  26.60  0.000000       0.000000     5.0            10           0.730960   \n",
      "35  31.20  0.000000       0.000000     7.0             0           0.756838   \n",
      "36  36.30  0.000000       0.000000     2.0             0           0.863771   \n",
      "37  46.30  0.000000       0.000000     5.0             0           1.032720   \n",
      "\n",
      "    inTheMoney contractSize currency  \n",
      "0        False      REGULAR      USD  \n",
      "1        False      REGULAR      USD  \n",
      "2        False      REGULAR      USD  \n",
      "3        False      REGULAR      USD  \n",
      "4        False      REGULAR      USD  \n",
      "5        False      REGULAR      USD  \n",
      "6        False      REGULAR      USD  \n",
      "7        False      REGULAR      USD  \n",
      "8        False      REGULAR      USD  \n",
      "9        False      REGULAR      USD  \n",
      "10       False      REGULAR      USD  \n",
      "11       False      REGULAR      USD  \n",
      "12       False      REGULAR      USD  \n",
      "13       False      REGULAR      USD  \n",
      "14       False      REGULAR      USD  \n",
      "15       False      REGULAR      USD  \n",
      "16       False      REGULAR      USD  \n",
      "17       False      REGULAR      USD  \n",
      "18       False      REGULAR      USD  \n",
      "19       False      REGULAR      USD  \n",
      "20       False      REGULAR      USD  \n",
      "21       False      REGULAR      USD  \n",
      "22       False      REGULAR      USD  \n",
      "23       False      REGULAR      USD  \n",
      "24       False      REGULAR      USD  \n",
      "25       False      REGULAR      USD  \n",
      "26        True      REGULAR      USD  \n",
      "27        True      REGULAR      USD  \n",
      "28        True      REGULAR      USD  \n",
      "29        True      REGULAR      USD  \n",
      "30        True      REGULAR      USD  \n",
      "31        True      REGULAR      USD  \n",
      "32        True      REGULAR      USD  \n",
      "33        True      REGULAR      USD  \n",
      "34        True      REGULAR      USD  \n",
      "35        True      REGULAR      USD  \n",
      "36        True      REGULAR      USD  \n",
      "37        True      REGULAR      USD  \n"
     ]
    }
   ],
   "metadata": {}
  },
  {
   "cell_type": "code",
   "execution_count": 4,
   "source": [
    "gs_stock_data = yf.download('GS', start='2020-01-01', end=datetime.now().strftime('%Y-%m-%d'))\n"
   ],
   "outputs": [
    {
     "output_type": "stream",
     "name": "stderr",
     "text": [
      "[*********************100%***********************]  1 of 1 completed\n"
     ]
    }
   ],
   "metadata": {}
  },
  {
   "cell_type": "code",
   "execution_count": 5,
   "source": [
    "gs_stock_data.head"
   ],
   "outputs": [
    {
     "output_type": "execute_result",
     "data": {
      "text/plain": [
       "<bound method NDFrame.head of Price            Close        High         Low        Open   Volume\n",
       "Ticker              GS          GS          GS          GS       GS\n",
       "Date                                                               \n",
       "2020-01-02  207.329193  207.612326  203.648371  204.391610  3736300\n",
       "2020-01-03  204.904816  205.816171  203.772257  204.922516  2274500\n",
       "2020-01-06  207.001831  207.063774  203.055576  203.444882  3329300\n",
       "2020-01-07  208.364410  210.381781  207.718488  207.930848  5255200\n",
       "2020-01-08  210.372971  212.133752  208.355600  208.532559  3564700\n",
       "...                ...         ...         ...         ...      ...\n",
       "2024-12-26  581.229980  582.590027  577.500000  578.150024  1092000\n",
       "2024-12-27  576.179993  581.960022  571.349976  577.000000  1486000\n",
       "2024-12-30  573.549988  576.020020  565.099976  567.270020  1265900\n",
       "2024-12-31  572.619995  576.919983  570.400024  575.070007  1055800\n",
       "2025-01-02  574.969971  584.309998  569.739990  579.309998  2219000\n",
       "\n",
       "[1259 rows x 5 columns]>"
      ]
     },
     "metadata": {},
     "execution_count": 5
    }
   ],
   "metadata": {}
  },
  {
   "cell_type": "code",
   "execution_count": 6,
   "source": [
    "plt.figure(figsize=(10, 5))\n",
    "plt.plot(gs_stock_data['Close'])\n",
    "plt.title('GS Historical Stock Price')\n",
    "plt.xlabel('Date')\n",
    "plt.ylabel('Stock Price (USD)')\n",
    "plt.grid(True)"
   ],
   "outputs": [
    {
     "output_type": "display_data",
     "data": {
      "image/png": "[encoded data removed]",
      "text/plain": [
       "<Figure size 720x360 with 1 Axes>"
      ]
     },
     "metadata": {
      "needs_background": "light"
     }
    }
   ],
   "metadata": {}
  },
  {
   "cell_type": "code",
   "execution_count": 7,
   "source": [
    "class BlackScholesModel:\n",
    "    def __init__(self, S, K, T, r, sigma):\n",
    "        self.S = S        # Underlying asset price\n",
    "        self.K = K        # Option strike price\n",
    "        self.T = T        # Time to expiration in years\n",
    "        self.r = r        # Risk-free interest rate\n",
    "        self.sigma = sigma  # Volatility of the underlying asset\n",
    "\n",
    "    def d1(self):\n",
    "        return (np.log(self.S / self.K) + (self.r + 0.5 * self.sigma ** 2) * self.T) / (self.sigma * np.sqrt(self.T))\n",
    "    \n",
    "    def d2(self):\n",
    "        return self.d1() - self.sigma * np.sqrt(self.T)\n",
    "    \n",
    "    def call_option_price(self):\n",
    "        return (self.S * si.norm.cdf(self.d1(), 0.0, 1.0) - self.K * np.exp(-self.r * self.T) * si.norm.cdf(self.d2(), 0.0, 1.0))\n",
    "    \n",
    "    def put_option_price(self):\n",
    "        return (self.K * np.exp(-self.r * self.T) * si.norm.cdf(-self.d2(), 0.0, 1.0) - self.S * si.norm.cdf(-self.d1(), 0.0, 1.0))\n"
   ],
   "outputs": [],
   "metadata": {}
  },
  {
   "cell_type": "code",
   "execution_count": 8,
   "source": [
    "bsm = BlackScholesModel(S=100, K=100, T=1, r=0.05, sigma=0.2)\n",
    "print(f\"Call Option Price: {bsm.call_option_price()}\")\n",
    "print(f\"Put Option Price: {bsm.put_option_price()}\")\n",
    "\n",
    "def calculate_historical_volatility(stock_data, window=252):\n",
    "    log_returns = np.log(stock_data['Close'] / stock_data['Close'].shift(1))\n",
    "    volatility = np.sqrt(window) * log_returns.std()\n",
    "    return volatility\n",
    "\n",
    "gs_volatility = calculate_historical_volatility(gs_stock_data)\n",
    "print(f\"GS Historical Volatility: {gs_volatility}\")"
   ],
   "outputs": [
    {
     "output_type": "stream",
     "name": "stdout",
     "text": [
      "Call Option Price: 10.450583572185565\n",
      "Put Option Price: 5.573526022256971\n",
      "GS Historical Volatility: Ticker\n",
      "GS    0.330371\n",
      "dtype: float64\n"
     ]
    }
   ],
   "metadata": {}
  },
  {
   "cell_type": "code",
   "execution_count": 9,
   "source": [
    "class BlackScholesGreeks(BlackScholesModel):\n",
    "    def delta_call(self):\n",
    "        return si.norm.cdf(self.d1(), 0.0, 1.0)\n",
    "\n",
    "    def delta_put(self):\n",
    "        return -si.norm.cdf(-self.d1(), 0.0, 1.0)\n",
    "    \n",
    "    def gamma(self):\n",
    "        return si.norm.pdf(self.d1(), 0.0, 1.0) / (self.S * self.sigma * np.sqrt(self.T))\n",
    "\n",
    "    def theta_call(self):\n",
    "        return (-self.S * si.norm.pdf(self.d1(), 0.0, 1.0) * self.sigma / (2 * np.sqrt(self.T)) - self.r * self.K * np.exp(-self.r * self.T) * si.norm.cdf(self.d2(), 0.0, 1.0))\n",
    "    \n",
    "    def theta_put(self):\n",
    "        return (-self.S * si.norm.pdf(self.d1(), 0.0, 1.0) * self.sigma / (2 * np.sqrt(self.T)) + self.r * self.K * np.exp(-self.r * self.T) * si.norm.cdf(-self.d2(), 0.0, 1.0))\n",
    "\n",
    "    def vega(self):\n",
    "        return self.S * si.norm.pdf(self.d1(), 0.0, 1.0) * np.sqrt(self.T)\n",
    "    \n",
    "    def rho_call(self):\n",
    "        return self.K * self.T * np.exp(-self.r * self.T) * si.norm.cdf(self.d2(), 0.0, 1.0)\n",
    "    \n",
    "    def rho_put(self):\n",
    "        return -self.K * self.T * np.exp(-self.r * self.T) * si.norm.cdf(-self.d2(), 0.0, 1.0)\n"
   ],
   "outputs": [],
   "metadata": {}
  },
  {
   "cell_type": "code",
   "execution_count": 10,
   "source": [
    "bsg = BlackScholesGreeks(S=100, K=100, T=1, r=0.05, sigma=0.2)\n",
    "print(f\"Call Delta: {bsg.delta_call()}\")\n",
    "print(f\"Put Delta: {bsg.delta_put()}\")"
   ],
   "outputs": [
    {
     "output_type": "stream",
     "name": "stdout",
     "text": [
      "Call Delta: 0.6368306511756191\n",
      "Put Delta: -0.3631693488243809\n"
     ]
    }
   ],
   "metadata": {}
  },
  {
   "cell_type": "code",
   "execution_count": 11,
   "source": [
    "stock_prices = np.linspace(80, 120, 100)\n",
    "deltas = [BlackScholesGreeks(S=price, K=100, T=1, r=0.05, sigma=0.2).delta_call() for price in stock_prices]"
   ],
   "outputs": [],
   "metadata": {}
  },
  {
   "cell_type": "code",
   "execution_count": 12,
   "source": [
    "plt.figure(figsize=(10, 5))\n",
    "plt.plot(stock_prices, deltas)\n",
    "plt.title('Delta of a Call Option as Underlying Price Changes')\n",
    "plt.xlabel('Stock Price')\n",
    "plt.ylabel('Delta')\n",
    "plt.grid(True)"
   ],
   "outputs": [
    {
     "output_type": "display_data",
     "data": {
      "image/png": "[encoded data removed]",
      "text/plain": [
       "<Figure size 720x360 with 1 Axes>"
      ]
     },
     "metadata": {
      "needs_background": "light"
     }
    }
   ],
   "metadata": {}
  },
  {
   "cell_type": "code",
   "execution_count": 13,
   "source": [
    "def plot_option_sensitivity(bs_model, parameter, values, option_type='call'):\n",
    "    prices = []\n",
    "    for value in values:\n",
    "        setattr(bs_model, parameter, value)\n",
    "        if option_type == 'call':\n",
    "            prices.append(bs_model.call_option_price())\n",
    "        else:\n",
    "            prices.append(bs_model.put_option_price())\n",
    "\n",
    "    plt.figure(figsize=(10, 5))\n",
    "    plt.plot(values, prices)\n",
    "    plt.title(f'Option Price Sensitivity to {parameter.capitalize()}')\n",
    "    plt.xlabel(parameter.capitalize())\n",
    "    plt.ylabel('Option Price')\n",
    "    plt.grid(True)"
   ],
   "outputs": [],
   "metadata": {}
  },
  {
   "cell_type": "code",
   "execution_count": 14,
   "source": [
    "volatilities = np.linspace(0.1, 0.3, 100)\n",
    "plot_option_sensitivity(bsm, 'sigma', volatilities, 'call')"
   ],
   "outputs": [
    {
     "output_type": "display_data",
     "data": {
      "image/png": "[encoded data removed]",
      "text/plain": [
       "<Figure size 720x360 with 1 Axes>"
      ]
     },
     "metadata": {
      "needs_background": "light"
     }
    }
   ],
   "metadata": {}
  },
  {
   "cell_type": "code",
   "execution_count": null,
   "source": [],
   "outputs": [],
   "metadata": {}
  },
  {
   "cell_type": "code",
   "execution_count": null,
   "source": [],
   "outputs": [],
   "metadata": {}
  }
 ],
 "metadata": {
  "orig_nbformat": 4,
  "language_info": {
   "name": "python",
   "version": "3.9.13",
   "mimetype": "text/x-python",
   "codemirror_mode": {
    "name": "ipython",
    "version": 3
   },
   "pygments_lexer": "ipython3",
   "nbconvert_exporter": "python",
   "file_extension": ".py"
  },
  "kernelspec": {
   "name": "python3",
   "display_name": "Python 3.9.13 64-bit"
  },
  "interpreter": {
   "hash": "b0fa6594d8f4cbf19f97940f81e996739fb7646882a419484c72d19e05852a7e"
  }
 },
 "nbformat": 4,
 "nbformat_minor": 2
}