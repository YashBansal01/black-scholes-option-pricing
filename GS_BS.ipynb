{
 "cells": [
  {
   "cell_type": "code",
   "execution_count": 5,
   "source": [
    "import yfinance as yf\n",
    "import numpy as np\n",
    "import scipy.stats as si\n",
    "import matplotlib.pyplot as plt\n",
    "import mplfinance as mpf\n",
    "import plotly.graph_objects as go\n",
    "from datetime import datetime"
   ],
   "outputs": [],
   "metadata": {}
  },
  {
   "cell_type": "code",
   "execution_count": 7,
   "source": [
    "def fetch_options_data(ticker_symbol):\n",
    "    ticker = yf.Ticker(ticker_symbol)\n",
    "    options_dates = ticker.options\n",
    "    # We'll use the nearest expiry date for our analysis\n",
    "    options_data = ticker.option_chain(options_dates[0])\n",
    "    return options_data.calls, options_data.puts\n",
    "\n"
   ],
   "outputs": [],
   "metadata": {}
  },
  {
   "cell_type": "code",
   "execution_count": 8,
   "source": [
    "# Example usage:\n",
    "jpm_calls, jpm_puts = fetch_options_data('JPM')\n",
    "print(jpm_calls, jpm_puts)"
   ],
   "outputs": [
    {
     "output_type": "stream",
     "name": "stdout",
     "text": [
      "        contractSymbol             lastTradeDate  strike  lastPrice  bid  \\\n",
      "0   JPM250103C00125000 2025-01-02 19:20:21+00:00   125.0     115.20  0.0   \n",
      "1   JPM250103C00185000 2024-12-27 17:08:35+00:00   185.0      55.25  0.0   \n",
      "2   JPM250103C00190000 2024-12-30 19:31:30+00:00   190.0      50.74  0.0   \n",
      "3   JPM250103C00195000 2024-12-17 15:01:40+00:00   195.0      43.48  0.0   \n",
      "4   JPM250103C00200000 2024-12-27 17:04:52+00:00   200.0      40.54  0.0   \n",
      "5   JPM250103C00202500 2024-12-31 14:45:21+00:00   202.5      38.25  0.0   \n",
      "6   JPM250103C00205000 2024-12-31 14:45:21+00:00   205.0      35.87  0.0   \n",
      "7   JPM250103C00210000 2025-01-02 16:02:45+00:00   210.0      31.80  0.0   \n",
      "8   JPM250103C00215000 2024-12-31 17:04:41+00:00   215.0      24.73  0.0   \n",
      "9   JPM250103C00217500 2024-12-27 16:50:51+00:00   217.5      23.55  0.0   \n",
      "10  JPM250103C00220000 2025-01-02 20:52:46+00:00   220.0      20.50  0.0   \n",
      "11  JPM250103C00222500 2025-01-02 19:25:34+00:00   222.5      17.90  0.0   \n",
      "12  JPM250103C00225000 2024-12-31 17:56:12+00:00   225.0      15.02  0.0   \n",
      "13  JPM250103C00227500 2024-12-30 16:07:09+00:00   227.5      12.15  0.0   \n",
      "14  JPM250103C00230000 2025-01-02 20:46:35+00:00   230.0      11.35  0.0   \n",
      "15  JPM250103C00232500 2025-01-02 20:52:02+00:00   232.5       8.00  0.0   \n",
      "16  JPM250103C00235000 2025-01-02 17:41:05+00:00   235.0       5.25  0.0   \n",
      "17  JPM250103C00237500 2025-01-02 20:29:30+00:00   237.5       4.40  0.0   \n",
      "18  JPM250103C00240000 2025-01-02 20:52:30+00:00   240.0       1.58  0.0   \n",
      "19  JPM250103C00242500 2025-01-02 20:54:51+00:00   242.5       0.50  0.0   \n",
      "20  JPM250103C00245000 2025-01-02 20:59:19+00:00   245.0       0.09  0.0   \n",
      "21  JPM250103C00247500 2025-01-02 20:55:35+00:00   247.5       0.02  0.0   \n",
      "22  JPM250103C00250000 2025-01-02 20:58:42+00:00   250.0       0.01  0.0   \n",
      "23  JPM250103C00252500 2025-01-02 19:27:53+00:00   252.5       0.01  0.0   \n",
      "24  JPM250103C00255000 2025-01-02 19:05:37+00:00   255.0       0.01  0.0   \n",
      "25  JPM250103C00257500 2024-12-27 20:40:51+00:00   257.5       0.02  0.0   \n",
      "26  JPM250103C00260000 2025-01-02 14:30:02+00:00   260.0       1.00  0.0   \n",
      "27  JPM250103C00262500 2024-12-20 16:34:55+00:00   262.5       0.08  0.0   \n",
      "28  JPM250103C00265000 2024-12-30 14:30:10+00:00   265.0       0.03  0.0   \n",
      "29  JPM250103C00270000 2025-01-02 14:30:01+00:00   270.0       0.06  0.0   \n",
      "30  JPM250103C00275000 2024-12-16 19:07:42+00:00   275.0       0.03  0.0   \n",
      "31  JPM250103C00290000 2024-12-10 14:30:12+00:00   290.0       0.03  0.0   \n",
      "32  JPM250103C00300000 2024-11-26 16:25:35+00:00   300.0       0.10  0.0   \n",
      "\n",
      "     ask  change  percentChange  volume  openInterest  impliedVolatility  \\\n",
      "0   0.00     0.0            0.0     1.0             0           0.000010   \n",
      "1   0.00     0.0            0.0     1.0             2           0.000010   \n",
      "2   0.00     0.0            0.0     4.0             3           0.000010   \n",
      "3   0.00     0.0            0.0     NaN             1           0.000010   \n",
      "4   0.00     0.0            0.0     7.0             6           0.000010   \n",
      "5   0.00     0.0            0.0    40.0            24           0.000010   \n",
      "6   0.00     0.0            0.0    40.0            16           0.000010   \n",
      "7   0.00     0.0            0.0     1.0           301           0.000010   \n",
      "8   0.00     0.0            0.0     1.0             1           0.000010   \n",
      "9   0.00     0.0            0.0     1.0             1           0.000010   \n",
      "10  0.00     0.0            0.0    22.0             6           0.000010   \n",
      "11  0.00     0.0            0.0     1.0             5           0.000010   \n",
      "12  0.00     0.0            0.0     3.0            19           0.000010   \n",
      "13  0.00     0.0            0.0     1.0            37           0.000010   \n",
      "14  0.00     0.0            0.0     3.0            45           0.000010   \n",
      "15  0.00     0.0            0.0     1.0            57           0.000010   \n",
      "16  0.00     0.0            0.0    29.0           127           0.000010   \n",
      "17  0.00     0.0            0.0    51.0           180           0.000010   \n",
      "18  0.00     0.0            0.0  1367.0          1653           0.000132   \n",
      "19  0.00     0.0            0.0  1105.0          2179           0.062509   \n",
      "20  0.00     0.0            0.0  5186.0          2103           0.125009   \n",
      "21  0.00     0.0            0.0   614.0          1467           0.125009   \n",
      "22  0.00     0.0            0.0   500.0          1484           0.250007   \n",
      "23  0.00     0.0            0.0  1857.0           834           0.250007   \n",
      "24  0.00     0.0            0.0    17.0           585           0.250007   \n",
      "25  0.00     0.0            0.0     9.0            18           0.250007   \n",
      "26  0.00     0.0            0.0     1.0           256           0.250007   \n",
      "27  0.00     0.0            0.0     3.0             3           0.500005   \n",
      "28  0.00     0.0            0.0     3.0           449           0.500005   \n",
      "29  0.00     0.0            0.0     1.0            71           0.500005   \n",
      "30  0.00     0.0            0.0     1.0             1           0.500005   \n",
      "31  0.00     0.0            0.0     NaN             2           0.500005   \n",
      "32  1.14     0.0            0.0     NaN             2           2.451176   \n",
      "\n",
      "    inTheMoney contractSize currency  \n",
      "0         True      REGULAR      USD  \n",
      "1         True      REGULAR      USD  \n",
      "2         True      REGULAR      USD  \n",
      "3         True      REGULAR      USD  \n",
      "4         True      REGULAR      USD  \n",
      "5         True      REGULAR      USD  \n",
      "6         True      REGULAR      USD  \n",
      "7         True      REGULAR      USD  \n",
      "8         True      REGULAR      USD  \n",
      "9         True      REGULAR      USD  \n",
      "10        True      REGULAR      USD  \n",
      "11        True      REGULAR      USD  \n",
      "12        True      REGULAR      USD  \n",
      "13        True      REGULAR      USD  \n",
      "14        True      REGULAR      USD  \n",
      "15        True      REGULAR      USD  \n",
      "16        True      REGULAR      USD  \n",
      "17        True      REGULAR      USD  \n",
      "18       False      REGULAR      USD  \n",
      "19       False      REGULAR      USD  \n",
      "20       False      REGULAR      USD  \n",
      "21       False      REGULAR      USD  \n",
      "22       False      REGULAR      USD  \n",
      "23       False      REGULAR      USD  \n",
      "24       False      REGULAR      USD  \n",
      "25       False      REGULAR      USD  \n",
      "26       False      REGULAR      USD  \n",
      "27       False      REGULAR      USD  \n",
      "28       False      REGULAR      USD  \n",
      "29       False      REGULAR      USD  \n",
      "30       False      REGULAR      USD  \n",
      "31       False      REGULAR      USD  \n",
      "32       False      REGULAR      USD           contractSymbol             lastTradeDate  strike  lastPrice    bid  \\\n",
      "0   JPM250103P00125000 2024-12-23 20:56:39+00:00   125.0       0.01   0.00   \n",
      "1   JPM250103P00135000 2024-12-27 15:16:59+00:00   135.0       0.01   0.00   \n",
      "2   JPM250103P00185000 2024-12-24 14:30:02+00:00   185.0       0.05   0.00   \n",
      "3   JPM250103P00190000 2024-12-30 19:14:26+00:00   190.0       0.02   0.00   \n",
      "4   JPM250103P00195000 2024-12-30 15:26:14+00:00   195.0       0.02   0.00   \n",
      "5   JPM250103P00200000 2024-12-27 17:22:45+00:00   200.0       0.03   0.00   \n",
      "6   JPM250103P00202500 2024-12-23 15:03:55+00:00   202.5       0.14   0.00   \n",
      "7   JPM250103P00205000 2025-01-02 15:09:18+00:00   205.0       0.01   0.00   \n",
      "8   JPM250103P00207500 2024-12-24 14:31:46+00:00   207.5       0.06   0.00   \n",
      "9   JPM250103P00210000 2025-01-02 14:34:07+00:00   210.0       0.01   0.00   \n",
      "10  JPM250103P00212500 2024-12-30 15:35:35+00:00   212.5       0.03   0.00   \n",
      "11  JPM250103P00215000 2024-12-31 19:43:53+00:00   215.0       0.01   0.00   \n",
      "12  JPM250103P00217500 2024-12-31 18:47:35+00:00   217.5       0.01   0.00   \n",
      "13  JPM250103P00220000 2025-01-02 20:29:30+00:00   220.0       0.07   0.00   \n",
      "14  JPM250103P00222500 2025-01-02 20:29:30+00:00   222.5       0.01   0.00   \n",
      "15  JPM250103P00225000 2025-01-02 20:29:30+00:00   225.0       0.02   0.00   \n",
      "16  JPM250103P00227500 2025-01-02 20:11:56+00:00   227.5       0.02   0.00   \n",
      "17  JPM250103P00230000 2025-01-02 20:40:16+00:00   230.0       0.04   0.00   \n",
      "18  JPM250103P00232500 2025-01-02 19:57:39+00:00   232.5       0.07   0.00   \n",
      "19  JPM250103P00235000 2025-01-02 20:39:03+00:00   235.0       0.12   0.00   \n",
      "20  JPM250103P00237500 2025-01-02 20:56:01+00:00   237.5       0.40   0.00   \n",
      "21  JPM250103P00240000 2025-01-02 20:59:51+00:00   240.0       1.32   0.00   \n",
      "22  JPM250103P00242500 2025-01-02 20:55:19+00:00   242.5       2.70   0.00   \n",
      "23  JPM250103P00245000 2025-01-02 19:38:38+00:00   245.0       4.75   0.00   \n",
      "24  JPM250103P00247500 2024-12-31 17:02:30+00:00   247.5       8.15   0.00   \n",
      "25  JPM250103P00250000 2025-01-02 18:24:17+00:00   250.0       9.90   0.00   \n",
      "26  JPM250103P00255000 2025-01-02 14:57:15+00:00   255.0      11.75   0.00   \n",
      "27  JPM250103P00257500 2024-12-27 17:07:45+00:00   257.5      17.35   0.00   \n",
      "28  JPM250103P00260000 2024-12-27 16:29:47+00:00   260.0      18.65   0.00   \n",
      "29  JPM250103P00265000 2024-11-26 19:45:21+00:00   265.0      15.54  23.15   \n",
      "\n",
      "     ask  change  percentChange  volume  openInterest  impliedVolatility  \\\n",
      "0    0.0     0.0            0.0     NaN           100           0.500005   \n",
      "1    0.0     0.0            0.0     1.0             2           0.500005   \n",
      "2    0.0     0.0            0.0     NaN             1           0.500005   \n",
      "3    0.0     0.0            0.0     1.0             9           0.500005   \n",
      "4    0.0     0.0            0.0     2.0           144           0.500005   \n",
      "5    0.0     0.0            0.0   160.0           167           0.500005   \n",
      "6    0.0     0.0            0.0     NaN             3           0.500005   \n",
      "7    0.0     0.0            0.0     1.0            31           0.500005   \n",
      "8    0.0     0.0            0.0     NaN             8           0.500005   \n",
      "9    0.0     0.0            0.0     5.0           152           0.500005   \n",
      "10   0.0     0.0            0.0   602.0           695           0.500005   \n",
      "11   0.0     0.0            0.0     1.0           612           0.500005   \n",
      "12   0.0     0.0            0.0    10.0           120           0.500005   \n",
      "13   0.0     0.0            0.0    28.0          1769           0.500005   \n",
      "14   0.0     0.0            0.0    65.0           140           0.250007   \n",
      "15   0.0     0.0            0.0    16.0           363           0.250007   \n",
      "16   0.0     0.0            0.0    10.0           177           0.250007   \n",
      "17   0.0     0.0            0.0   144.0          1124           0.250007   \n",
      "18   0.0     0.0            0.0    80.0           460           0.125009   \n",
      "19   0.0     0.0            0.0   291.0           520           0.125009   \n",
      "20   0.0     0.0            0.0   481.0           729           0.062509   \n",
      "21   0.0     0.0            0.0  1195.0           978           0.000132   \n",
      "22   0.0     0.0            0.0   399.0           781           0.000010   \n",
      "23   0.0     0.0            0.0    21.0            62           0.000010   \n",
      "24   0.0     0.0            0.0     1.0            90           0.000010   \n",
      "25   0.0     0.0            0.0    51.0            25           0.000010   \n",
      "26   0.0     0.0            0.0     1.0             1           0.000010   \n",
      "27   0.0     0.0            0.0     2.0             0           0.000010   \n",
      "28   0.0     0.0            0.0     1.0             0           0.000010   \n",
      "29  24.6     0.0            0.0     NaN             6           0.000010   \n",
      "\n",
      "    inTheMoney contractSize currency  \n",
      "0        False      REGULAR      USD  \n",
      "1        False      REGULAR      USD  \n",
      "2        False      REGULAR      USD  \n",
      "3        False      REGULAR      USD  \n",
      "4        False      REGULAR      USD  \n",
      "5        False      REGULAR      USD  \n",
      "6        False      REGULAR      USD  \n",
      "7        False      REGULAR      USD  \n",
      "8        False      REGULAR      USD  \n",
      "9        False      REGULAR      USD  \n",
      "10       False      REGULAR      USD  \n",
      "11       False      REGULAR      USD  \n",
      "12       False      REGULAR      USD  \n",
      "13       False      REGULAR      USD  \n",
      "14       False      REGULAR      USD  \n",
      "15       False      REGULAR      USD  \n",
      "16       False      REGULAR      USD  \n",
      "17       False      REGULAR      USD  \n",
      "18       False      REGULAR      USD  \n",
      "19       False      REGULAR      USD  \n",
      "20       False      REGULAR      USD  \n",
      "21       False      REGULAR      USD  \n",
      "22        True      REGULAR      USD  \n",
      "23        True      REGULAR      USD  \n",
      "24        True      REGULAR      USD  \n",
      "25        True      REGULAR      USD  \n",
      "26        True      REGULAR      USD  \n",
      "27        True      REGULAR      USD  \n",
      "28        True      REGULAR      USD  \n",
      "29        True      REGULAR      USD  \n"
     ]
    }
   ],
   "metadata": {}
  },
  {
   "cell_type": "code",
   "execution_count": 9,
   "source": [
    "jpm_stock_data = yf.download('JPM', start='2020-01-01', end=datetime.now().strftime('%Y-%m-%d'))\n"
   ],
   "outputs": [
    {
     "output_type": "stream",
     "name": "stderr",
     "text": [
      "[*********************100%***********************]  1 of 1 completed\n"
     ]
    }
   ],
   "metadata": {}
  },
  {
   "cell_type": "code",
   "execution_count": 10,
   "source": [
    "jpm_stock_data.head"
   ],
   "outputs": [
    {
     "output_type": "execute_result",
     "data": {
      "text/plain": [
       "<bound method NDFrame.head of Price            Close        High         Low        Open    Volume\n",
       "Ticker             JPM         JPM         JPM         JPM       JPM\n",
       "Date                                                                \n",
       "2020-01-02  122.104614  122.113277  120.520862  120.979542  10803700\n",
       "2020-01-03  120.493271  121.268455  119.395824  119.761639  10386800\n",
       "2020-01-06  120.397469  120.432316  118.890653  118.942911  10259000\n",
       "2020-01-07  118.350624  120.075188  118.298367  119.570010  10531300\n",
       "2020-01-08  119.273888  119.831323  118.106759  118.193851   9695300\n",
       "...                ...         ...         ...         ...       ...\n",
       "2024-12-26  243.139999  243.259995  240.789993  241.429993   4451800\n",
       "2024-12-27  241.169998  243.389999  240.039993  242.720001   5730200\n",
       "2024-12-30  239.320007  240.839996  237.110001  238.770004   5723800\n",
       "2024-12-31  239.710007  241.440002  239.029999  240.050003   4871000\n",
       "2025-01-02  240.000000  243.279999  239.449997  240.919998   9213400\n",
       "\n",
       "[1259 rows x 5 columns]>"
      ]
     },
     "metadata": {},
     "execution_count": 10
    }
   ],
   "metadata": {}
  },
  {
   "cell_type": "code",
   "execution_count": 11,
   "source": [
    "plt.figure(figsize=(10, 5))\n",
    "plt.plot(jpm_stock_data['Close'])\n",
    "plt.title('JPM Historical Stock Price')\n",
    "plt.xlabel('Date')\n",
    "plt.ylabel('Stock Price (USD)')\n",
    "plt.grid(True)"
   ],
   "outputs": [
    {
     "output_type": "display_data",
     "data": {
      "image/png": "[encoded data removed]",
      "text/plain": [
       "<Figure size 720x360 with 1 Axes>"
      ]
     },
     "metadata": {
      "needs_background": "light"
     }
    }
   ],
   "metadata": {}
  },
  {
   "cell_type": "code",
   "execution_count": 12,
   "source": [
    "class BlackScholesModel:\n",
    "    def __init__(self, S, K, T, r, sigma):\n",
    "        self.S = S        # Underlying asset price\n",
    "        self.K = K        # Option strike price\n",
    "        self.T = T        # Time to expiration in years\n",
    "        self.r = r        # Risk-free interest rate\n",
    "        self.sigma = sigma  # Volatility of the underlying asset\n",
    "\n",
    "    def d1(self):\n",
    "        return (np.log(self.S / self.K) + (self.r + 0.5 * self.sigma ** 2) * self.T) / (self.sigma * np.sqrt(self.T))\n",
    "    \n",
    "    def d2(self):\n",
    "        return self.d1() - self.sigma * np.sqrt(self.T)\n",
    "    \n",
    "    def call_option_price(self):\n",
    "        return (self.S * si.norm.cdf(self.d1(), 0.0, 1.0) - self.K * np.exp(-self.r * self.T) * si.norm.cdf(self.d2(), 0.0, 1.0))\n",
    "    \n",
    "    def put_option_price(self):\n",
    "        return (self.K * np.exp(-self.r * self.T) * si.norm.cdf(-self.d2(), 0.0, 1.0) - self.S * si.norm.cdf(-self.d1(), 0.0, 1.0))\n"
   ],
   "outputs": [],
   "metadata": {}
  },
  {
   "cell_type": "code",
   "execution_count": 21,
   "source": [
    "bsm = BlackScholesModel(S=100, K=100, T=1, r=0.05, sigma=0.2)\n",
    "print(f\"Call Option Price: {bsm.call_option_price()}\")\n",
    "print(f\"Put Option Price: {bsm.put_option_price()}\")\n",
    "\n",
    "def calculate_historical_volatility(stock_data, window=252):\n",
    "    log_returns = np.log(stock_data['Close'] / stock_data['Close'].shift(1))\n",
    "    volatility = np.sqrt(window) * log_returns.std()\n",
    "    return volatility\n",
    "\n",
    "jpm_volatility = calculate_historical_volatility(jpm_stock_data)\n",
    "print(f\"JPM Historical Volatility: {jpm_volatility}\")"
   ],
   "outputs": [
    {
     "output_type": "stream",
     "name": "stdout",
     "text": [
      "Call Option Price: 10.450583572185565\n",
      "Put Option Price: 5.573526022256971\n",
      "JPM Historical Volatility: Ticker\n",
      "JPM    0.324358\n",
      "dtype: float64\n"
     ]
    }
   ],
   "metadata": {}
  },
  {
   "cell_type": "code",
   "execution_count": 14,
   "source": [
    "class BlackScholesGreeks(BlackScholesModel):\n",
    "    def delta_call(self):\n",
    "        return si.norm.cdf(self.d1(), 0.0, 1.0)\n",
    "\n",
    "    def delta_put(self):\n",
    "        return -si.norm.cdf(-self.d1(), 0.0, 1.0)\n",
    "    \n",
    "    def gamma(self):\n",
    "        return si.norm.pdf(self.d1(), 0.0, 1.0) / (self.S * self.sigma * np.sqrt(self.T))\n",
    "\n",
    "    def theta_call(self):\n",
    "        return (-self.S * si.norm.pdf(self.d1(), 0.0, 1.0) * self.sigma / (2 * np.sqrt(self.T)) - self.r * self.K * np.exp(-self.r * self.T) * si.norm.cdf(self.d2(), 0.0, 1.0))\n",
    "    \n",
    "    def theta_put(self):\n",
    "        return (-self.S * si.norm.pdf(self.d1(), 0.0, 1.0) * self.sigma / (2 * np.sqrt(self.T)) + self.r * self.K * np.exp(-self.r * self.T) * si.norm.cdf(-self.d2(), 0.0, 1.0))\n",
    "\n",
    "    def vega(self):\n",
    "        return self.S * si.norm.pdf(self.d1(), 0.0, 1.0) * np.sqrt(self.T)\n",
    "    \n",
    "    def rho_call(self):\n",
    "        return self.K * self.T * np.exp(-self.r * self.T) * si.norm.cdf(self.d2(), 0.0, 1.0)\n",
    "    \n",
    "    def rho_put(self):\n",
    "        return -self.K * self.T * np.exp(-self.r * self.T) * si.norm.cdf(-self.d2(), 0.0, 1.0)\n"
   ],
   "outputs": [],
   "metadata": {}
  },
  {
   "cell_type": "code",
   "execution_count": 15,
   "source": [
    "bsg = BlackScholesGreeks(S=100, K=100, T=1, r=0.05, sigma=0.2)\n",
    "print(f\"Call Delta: {bsg.delta_call()}\")\n",
    "print(f\"Put Delta: {bsg.delta_put()}\")"
   ],
   "outputs": [
    {
     "output_type": "stream",
     "name": "stdout",
     "text": [
      "Call Delta: 0.6368306511756191\n",
      "Put Delta: -0.3631693488243809\n"
     ]
    }
   ],
   "metadata": {}
  },
  {
   "cell_type": "code",
   "execution_count": 16,
   "source": [
    "stock_prices = np.linspace(80, 120, 100)\n",
    "deltas = [BlackScholesGreeks(S=price, K=100, T=1, r=0.05, sigma=0.2).delta_call() for price in stock_prices]"
   ],
   "outputs": [],
   "metadata": {}
  },
  {
   "cell_type": "code",
   "execution_count": 17,
   "source": [
    "plt.figure(figsize=(10, 5))\n",
    "plt.plot(stock_prices, deltas)\n",
    "plt.title('Delta of a Call Option as Underlying Price Changes')\n",
    "plt.xlabel('Stock Price')\n",
    "plt.ylabel('Delta')\n",
    "plt.grid(True)"
   ],
   "outputs": [
    {
     "output_type": "display_data",
     "data": {
      "image/png": "[encoded data removed]",
      "text/plain": [
       "<Figure size 720x360 with 1 Axes>"
      ]
     },
     "metadata": {
      "needs_background": "light"
     }
    }
   ],
   "metadata": {}
  },
  {
   "cell_type": "code",
   "execution_count": 18,
   "source": [
    "def plot_option_sensitivity(bs_model, parameter, values, option_type='call'):\n",
    "    prices = []\n",
    "    for value in values:\n",
    "        setattr(bs_model, parameter, value)\n",
    "        if option_type == 'call':\n",
    "            prices.append(bs_model.call_option_price())\n",
    "        else:\n",
    "            prices.append(bs_model.put_option_price())\n",
    "\n",
    "    plt.figure(figsize=(10, 5))\n",
    "    plt.plot(values, prices)\n",
    "    plt.title(f'Option Price Sensitivity to {parameter.capitalize()}')\n",
    "    plt.xlabel(parameter.capitalize())\n",
    "    plt.ylabel('Option Price')\n",
    "    plt.grid(True)"
   ],
   "outputs": [],
   "metadata": {}
  },
  {
   "cell_type": "code",
   "execution_count": 19,
   "source": [
    "volatilities = np.linspace(0.1, 0.3, 100)\n",
    "plot_option_sensitivity(bsm, 'sigma', volatilities, 'call')"
   ],
   "outputs": [
    {
     "output_type": "display_data",
     "data": {
      "image/png": "[encoded data removed]",
      "text/plain": [
       "<Figure size 720x360 with 1 Axes>"
      ]
     },
     "metadata": {
      "needs_background": "light"
     }
    }
   ],
   "metadata": {}
  },
  {
   "cell_type": "code",
   "execution_count": null,
   "source": [],
   "outputs": [],
   "metadata": {}
  }
 ],
 "metadata": {
  "orig_nbformat": 4,
  "language_info": {
   "name": "python",
   "version": "3.9.13",
   "mimetype": "text/x-python",
   "codemirror_mode": {
    "name": "ipython",
    "version": 3
   },
   "pygments_lexer": "ipython3",
   "nbconvert_exporter": "python",
   "file_extension": ".py"
  },
  "kernelspec": {
   "name": "python3",
   "display_name": "Python 3.9.13 64-bit"
  },
  "interpreter": {
   "hash": "b0fa6594d8f4cbf19f97940f81e996739fb7646882a419484c72d19e05852a7e"
  }
 },
 "nbformat": 4,
 "nbformat_minor": 2
}